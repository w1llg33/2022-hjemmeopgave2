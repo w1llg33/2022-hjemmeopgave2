{
 "cells": [
  {
   "cell_type": "markdown",
   "metadata": {},
   "source": [
    "# eBay \n",
    "\n",
    "The dataset, `ebay_ho2.parquet`, contains rows, each corresponding to a sold item on eBay under the *Best Offer* platform. \n",
    "\n",
    "The data comes from https://www.nber.org/research/data/best-offer-sequential-bargaining, from the paper “Sequential Bargaining in the Field: Evidence from Millions of Online Interactions” by Backus, Blake, Larsen & Tadelis (2020) in the Quarterly Journal of Economics. "
   ]
  },
  {
   "cell_type": "code",
   "execution_count": 1,
   "metadata": {},
   "outputs": [],
   "source": [
    "import pandas as pd \n",
    "import numpy as np \n",
    "import seaborn as sns \n",
    "import matplotlib.pyplot as plt \n",
    "from statsmodels.distributions.empirical_distribution import ECDF\n",
    "from scipy.optimize import minimize\n",
    "from matplotlib import colors"
   ]
  },
  {
   "cell_type": "code",
   "execution_count": 2,
   "metadata": {},
   "outputs": [],
   "source": [
    "dat = pd.read_parquet('ebay_ho2.parquet')"
   ]
  },
  {
   "cell_type": "code",
   "execution_count": 3,
   "metadata": {},
   "outputs": [
    {
     "data": {
      "text/plain": [
       "(7903479, 22)"
      ]
     },
     "execution_count": 3,
     "metadata": {},
     "output_type": "execute_result"
    }
   ],
   "source": [
    "dat.shape"
   ]
  },
  {
   "cell_type": "markdown",
   "metadata": {},
   "source": [
    "Variable labels in human readable form"
   ]
  },
  {
   "cell_type": "code",
   "execution_count": 4,
   "metadata": {},
   "outputs": [],
   "source": [
    "var_labels = {'anon_item_id': 'Anonymized listing ID',\n",
    "              'anon_leaf_categ_id': 'Anonymized leaf category ID, a finer categorization than meta categor',\n",
    "              'fdbk_pstv_start':'sellers percent feedback score at the time of the listin',\n",
    "              'start_price_usd': 'Buy-It-Now price', 'photo_count': 'Number of photos in listing', \n",
    "              'to_lst_cnt': 'Number of listings created by the seller dating back to 2008',\n",
    "              'bo_lst_cnt': 'Number of BO-listings created by the seller dating back to 2008',\n",
    "              'item_cndtn_id': 'Indicator for the new/used status of the item',\n",
    "              'view_item_count': 'Number of times the item page was viewed',\n",
    "              'wtchr_count': 'Number of users who selected the \"add to watch list\" option for this listing',              \n",
    "              'anon_product_id': 'Anonymized product ID, only available for items that can be linked to specific cataloged products', \n",
    "              'count1': 'Number of listings used in creating ref_price1 for this observation',\n",
    "              'ref_price1': 'Average price for sold fixed price listings with the same listing title as this item, sold during the time frame of the data',   \n",
    "              'item_price': 'Final price (Buy-It-Now price if the item sold through Buy-It-Now option, or the final negotiated price if the item sold through Best Offer. ',\n",
    "              'bo_ck_yn': 'Indicator for whether item sold through best offer.',\n",
    "              'decline_price': 'Price chosen by seller, if the seller chooses to report one, below which any offer will be automatically rejected', \n",
    "              'accept_price': 'Price chosen by seller, if the seller chooses to report one, above which any offer will be automatically accepted', \n",
    "              'bin_rev': 'Indicator for whether the Buy-It-Now price was ever modified by the seller during the time the item was listed', \n",
    "              'lstg_gen_type_id': 'Indicator for whether the item is a re-listing (i.e. an item that failed to sell before and was then re-listed by the seller)', \n",
    "              'store': 'Indicator for whether the listing is part of an eBay store',\n",
    "              'slr_us': 'Indicator for whether seller is located in US or not', \n",
    "              'buyer_us': 'Indicator for whether buyer is located in US or not', \n",
    "              'metacat': 'Product category (broad)', \n",
    "              'item_condition': 'Indicator for the new/used status of the item (categorical).', \n",
    "              'price2ref': 'Price relative to avg. among identical products (ref_price1)', \n",
    "              'price2start': 'Price relative to starting price (start_price_usd)'\n",
    "             }"
   ]
  },
  {
   "cell_type": "code",
   "execution_count": 5,
   "metadata": {},
   "outputs": [
    {
     "name": "stdout",
     "output_type": "stream",
     "text": [
      "anon_product_id     : Anonymized product ID, only available for items that can be linked to specific cataloged products\n",
      "anon_leaf_categ_id  : Anonymized leaf category ID, a finer categorization than meta categor\n",
      "fdbk_pstv_start     : sellers percent feedback score at the time of the listin\n",
      "start_price_usd     : Buy-It-Now price\n",
      "photo_count         : Number of photos in listing\n",
      "to_lst_cnt          : Number of listings created by the seller dating back to 2008\n",
      "bo_lst_cnt          : Number of BO-listings created by the seller dating back to 2008\n",
      "count1              : Number of listings used in creating ref_price1 for this observation\n",
      "ref_price1          : Average price for sold fixed price listings with the same listing title as this item, sold during the time frame of the data\n",
      "view_item_count     : Number of times the item page was viewed\n",
      "wtchr_count         : Number of users who selected the \"add to watch list\" option for this listing\n",
      "item_price          : Final price (Buy-It-Now price if the item sold through Buy-It-Now option, or the final negotiated price if the item sold through Best Offer. \n",
      "bo_ck_yn            : Indicator for whether item sold through best offer.\n",
      "decline_price       : Price chosen by seller, if the seller chooses to report one, below which any offer will be automatically rejected\n",
      "accept_price        : Price chosen by seller, if the seller chooses to report one, above which any offer will be automatically accepted\n",
      "bin_rev             : Indicator for whether the Buy-It-Now price was ever modified by the seller during the time the item was listed\n",
      "lstg_gen_type_id    : Indicator for whether the item is a re-listing (i.e. an item that failed to sell before and was then re-listed by the seller)\n",
      "store               : Indicator for whether the listing is part of an eBay store\n",
      "slr_us              : Indicator for whether seller is located in US or not\n",
      "buyer_us            : Indicator for whether buyer is located in US or not\n",
      "metacat             : Product category (broad)\n",
      "item_condition      : Indicator for the new/used status of the item (categorical).\n"
     ]
    }
   ],
   "source": [
    "for v in dat.columns: \n",
    "    print(f'{v:<20}: {var_labels[v]}')"
   ]
  },
  {
   "cell_type": "markdown",
   "metadata": {},
   "source": [
    "# Create variables"
   ]
  },
  {
   "cell_type": "code",
   "execution_count": 6,
   "metadata": {},
   "outputs": [],
   "source": [
    "dat['price2ref']   = dat['item_price'] / dat['ref_price1']\n",
    "dat['price2start'] = dat['item_price'] / dat['start_price_usd']"
   ]
  },
  {
   "cell_type": "code",
   "execution_count": 7,
   "metadata": {},
   "outputs": [],
   "source": [
    "price_vars = ['item_price', 'price2ref', 'price2start']"
   ]
  },
  {
   "cell_type": "code",
   "execution_count": 8,
   "metadata": {},
   "outputs": [],
   "source": [
    "price_labs = {'price2ref':'Price rel. to avg. for product', 'price2start':'Price rel. to starting price', \n",
    "              'item_price':'Price (USD)'}"
   ]
  },
  {
   "cell_type": "markdown",
   "metadata": {},
   "source": [
    "# A few descriptives, just for curiosity"
   ]
  },
  {
   "cell_type": "markdown",
   "metadata": {},
   "source": [
    "## Number of sales per category"
   ]
  },
  {
   "cell_type": "code",
   "execution_count": 9,
   "metadata": {},
   "outputs": [
    {
     "data": {
      "image/png": "[encoded data removed]",
      "text/plain": [
       "<Figure size 432x288 with 1 Axes>"
      ]
     },
     "metadata": {
      "needs_background": "light"
     },
     "output_type": "display_data"
    }
   ],
   "source": [
    "ax=dat.metacat.value_counts().plot(kind='bar'); \n",
    "ax.set_ylabel('Number of product listings'); "
   ]
  },
  {
   "cell_type": "markdown",
   "metadata": {},
   "source": [
    "## Price distributions"
   ]
  },
  {
   "cell_type": "code",
   "execution_count": 10,
   "metadata": {},
   "outputs": [
    {
     "data": {
      "image/png": "[encoded data removed]",
      "text/plain": [
       "<Figure size 432x288 with 1 Axes>"
      ]
     },
     "metadata": {
      "needs_background": "light"
     },
     "output_type": "display_data"
    }
   ],
   "source": [
    "I = dat.item_price <= 500 # just to remove a few outliers \n",
    "ax = dat.loc[I].item_price.hist(bins=100,edgecolor='white'); \n",
    "ax.set_xlabel(price_labs['item_price']); "
   ]
  },
  {
   "cell_type": "code",
   "execution_count": 11,
   "metadata": {},
   "outputs": [
    {
     "data": {
      "image/png": "[encoded data removed]",
      "text/plain": [
       "<Figure size 432x288 with 1 Axes>"
      ]
     },
     "metadata": {
      "needs_background": "light"
     },
     "output_type": "display_data"
    }
   ],
   "source": [
    "I = (dat.price2ref <= 2.0) & (dat.count1 >= 10) # if count1<10, then the reference price gets very noisy\n",
    "ax = dat.loc[I].price2ref.hist(bins=100,edgecolor='white'); \n",
    "ax.set_xlabel(price_labs['price2ref']); "
   ]
  },
  {
   "cell_type": "code",
   "execution_count": 12,
   "metadata": {},
   "outputs": [
    {
     "data": {
      "image/png": "[encoded data removed]",
      "text/plain": [
       "<Figure size 432x288 with 1 Axes>"
      ]
     },
     "metadata": {
      "needs_background": "light"
     },
     "output_type": "display_data"
    }
   ],
   "source": [
    "I = (dat.price2start <= 1.05) \n",
    "ax = dat.loc[I].price2start.hist(bins=100,edgecolor='white'); \n",
    "ax.set_xlabel(price_labs['price2start']); "
   ]
  },
  {
   "cell_type": "markdown",
   "metadata": {},
   "source": [
    "# Compare prices for two specific categories"
   ]
  },
  {
   "cell_type": "code",
   "execution_count": 13,
   "metadata": {},
   "outputs": [
    {
     "data": {
      "image/png": "[encoded data removed]",
      "text/plain": [
       "<Figure size 432x288 with 1 Axes>"
      ]
     },
     "metadata": {
      "needs_background": "light"
     },
     "output_type": "display_data"
    }
   ],
   "source": [
    "cats = ['Antiques',  'Cell Phones & Accessories']\n",
    "\n",
    "fig,ax = plt.subplots(); \n",
    "for cat in cats: \n",
    "    I = (dat['price2start'] < 1.05) & (dat.metacat == cat)\n",
    "    ax.hist(dat.loc[I, 'price2start'], bins=20, label=cat, alpha=0.6, density=True, edgecolor='white')\n",
    "\n",
    "ax.legend(loc='best'); ax.set_xlabel(price_labs['price2start']); sns.despine();     "
   ]
  },
  {
   "cell_type": "markdown",
   "metadata": {},
   "source": [
    "# Part A: Uniform valuations\n",
    "\n",
    "This section focuses on the variable `price2start`, which is neatly distributed between 0 and 1, motivating us to focus on the uniform distribution. "
   ]
  },
  {
   "cell_type": "code",
   "execution_count": 14,
   "metadata": {},
   "outputs": [
    {
     "data": {
      "text/html": [
       "<div>\n",
       "<style scoped>\n",
       "    .dataframe tbody tr th:only-of-type {\n",
       "        vertical-align: middle;\n",
       "    }\n",
       "\n",
       "    .dataframe tbody tr th {\n",
       "        vertical-align: top;\n",
       "    }\n",
       "\n",
       "    .dataframe thead th {\n",
       "        text-align: right;\n",
       "    }\n",
       "</style>\n",
       "<table border=\"1\" class=\"dataframe\">\n",
       "  <thead>\n",
       "    <tr style=\"text-align: right;\">\n",
       "      <th></th>\n",
       "      <th>price2start</th>\n",
       "      <th>view_item_count</th>\n",
       "    </tr>\n",
       "    <tr>\n",
       "      <th>metacat</th>\n",
       "      <th></th>\n",
       "      <th></th>\n",
       "    </tr>\n",
       "  </thead>\n",
       "  <tbody>\n",
       "    <tr>\n",
       "      <th>Antiques</th>\n",
       "      <td>0.697898</td>\n",
       "      <td>45.201430</td>\n",
       "    </tr>\n",
       "    <tr>\n",
       "      <th>Art</th>\n",
       "      <td>0.678380</td>\n",
       "      <td>33.178491</td>\n",
       "    </tr>\n",
       "    <tr>\n",
       "      <th>Baby</th>\n",
       "      <td>0.759839</td>\n",
       "      <td>38.750195</td>\n",
       "    </tr>\n",
       "    <tr>\n",
       "      <th>Books</th>\n",
       "      <td>0.697726</td>\n",
       "      <td>19.118065</td>\n",
       "    </tr>\n",
       "    <tr>\n",
       "      <th>Business &amp; Industrial</th>\n",
       "      <td>0.720395</td>\n",
       "      <td>36.085501</td>\n",
       "    </tr>\n",
       "    <tr>\n",
       "      <th>Cameras &amp; Photo</th>\n",
       "      <td>0.795037</td>\n",
       "      <td>52.978987</td>\n",
       "    </tr>\n",
       "    <tr>\n",
       "      <th>Cell Phones &amp; Accessories</th>\n",
       "      <td>0.842814</td>\n",
       "      <td>64.304693</td>\n",
       "    </tr>\n",
       "    <tr>\n",
       "      <th>Coins &amp; Paper Money</th>\n",
       "      <td>0.794811</td>\n",
       "      <td>31.213884</td>\n",
       "    </tr>\n",
       "    <tr>\n",
       "      <th>Computers/Tablets &amp; Networking</th>\n",
       "      <td>0.796257</td>\n",
       "      <td>45.466562</td>\n",
       "    </tr>\n",
       "    <tr>\n",
       "      <th>Consumer Electronics</th>\n",
       "      <td>0.778015</td>\n",
       "      <td>53.906686</td>\n",
       "    </tr>\n",
       "    <tr>\n",
       "      <th>Crafts</th>\n",
       "      <td>0.723743</td>\n",
       "      <td>26.663230</td>\n",
       "    </tr>\n",
       "    <tr>\n",
       "      <th>DVDs &amp; Movies</th>\n",
       "      <td>0.743048</td>\n",
       "      <td>17.834471</td>\n",
       "    </tr>\n",
       "    <tr>\n",
       "      <th>Dolls &amp; Bears</th>\n",
       "      <td>0.729141</td>\n",
       "      <td>36.375775</td>\n",
       "    </tr>\n",
       "    <tr>\n",
       "      <th>Entertainment Memorabilia</th>\n",
       "      <td>0.686469</td>\n",
       "      <td>33.447567</td>\n",
       "    </tr>\n",
       "    <tr>\n",
       "      <th>Everything Else</th>\n",
       "      <td>0.674401</td>\n",
       "      <td>25.884462</td>\n",
       "    </tr>\n",
       "    <tr>\n",
       "      <th>Gift Cards &amp; Coupons</th>\n",
       "      <td>0.830729</td>\n",
       "      <td>19.658338</td>\n",
       "    </tr>\n",
       "    <tr>\n",
       "      <th>Health &amp; Beauty</th>\n",
       "      <td>0.782012</td>\n",
       "      <td>24.804116</td>\n",
       "    </tr>\n",
       "    <tr>\n",
       "      <th>Home &amp; Garden</th>\n",
       "      <td>0.756365</td>\n",
       "      <td>38.756647</td>\n",
       "    </tr>\n",
       "    <tr>\n",
       "      <th>Jewelry &amp; Watches</th>\n",
       "      <td>0.736961</td>\n",
       "      <td>39.017376</td>\n",
       "    </tr>\n",
       "    <tr>\n",
       "      <th>Music</th>\n",
       "      <td>0.705663</td>\n",
       "      <td>19.520677</td>\n",
       "    </tr>\n",
       "    <tr>\n",
       "      <th>Musical Instruments &amp; Gear</th>\n",
       "      <td>0.806855</td>\n",
       "      <td>71.023084</td>\n",
       "    </tr>\n",
       "    <tr>\n",
       "      <th>Pet Supplies</th>\n",
       "      <td>0.750923</td>\n",
       "      <td>41.632289</td>\n",
       "    </tr>\n",
       "    <tr>\n",
       "      <th>Pottery &amp; Glass</th>\n",
       "      <td>0.724025</td>\n",
       "      <td>29.071927</td>\n",
       "    </tr>\n",
       "    <tr>\n",
       "      <th>Sporting Goods</th>\n",
       "      <td>0.778186</td>\n",
       "      <td>53.203532</td>\n",
       "    </tr>\n",
       "    <tr>\n",
       "      <th>Sports Mem Cards &amp; Fan Shop</th>\n",
       "      <td>0.679758</td>\n",
       "      <td>23.235442</td>\n",
       "    </tr>\n",
       "    <tr>\n",
       "      <th>Stamps</th>\n",
       "      <td>0.723110</td>\n",
       "      <td>18.252685</td>\n",
       "    </tr>\n",
       "    <tr>\n",
       "      <th>Tickets &amp; Experiences</th>\n",
       "      <td>0.827965</td>\n",
       "      <td>53.935296</td>\n",
       "    </tr>\n",
       "    <tr>\n",
       "      <th>Toys &amp; Hobbies</th>\n",
       "      <td>0.753023</td>\n",
       "      <td>36.630766</td>\n",
       "    </tr>\n",
       "    <tr>\n",
       "      <th>Travel</th>\n",
       "      <td>0.765697</td>\n",
       "      <td>59.200182</td>\n",
       "    </tr>\n",
       "    <tr>\n",
       "      <th>Video Games &amp; Consoles</th>\n",
       "      <td>0.783154</td>\n",
       "      <td>34.327267</td>\n",
       "    </tr>\n",
       "  </tbody>\n",
       "</table>\n",
       "</div>"
      ],
      "text/plain": [
       "                                price2start  view_item_count\n",
       "metacat                                                     \n",
       "Antiques                           0.697898        45.201430\n",
       "Art                                0.678380        33.178491\n",
       "Baby                               0.759839        38.750195\n",
       "Books                              0.697726        19.118065\n",
       "Business & Industrial              0.720395        36.085501\n",
       "Cameras & Photo                    0.795037        52.978987\n",
       "Cell Phones & Accessories          0.842814        64.304693\n",
       "Coins & Paper Money                0.794811        31.213884\n",
       "Computers/Tablets & Networking     0.796257        45.466562\n",
       "Consumer Electronics               0.778015        53.906686\n",
       "Crafts                             0.723743        26.663230\n",
       "DVDs & Movies                      0.743048        17.834471\n",
       "Dolls & Bears                      0.729141        36.375775\n",
       "Entertainment Memorabilia          0.686469        33.447567\n",
       "Everything Else                    0.674401        25.884462\n",
       "Gift Cards & Coupons               0.830729        19.658338\n",
       "Health & Beauty                    0.782012        24.804116\n",
       "Home & Garden                      0.756365        38.756647\n",
       "Jewelry & Watches                  0.736961        39.017376\n",
       "Music                              0.705663        19.520677\n",
       "Musical Instruments & Gear         0.806855        71.023084\n",
       "Pet Supplies                       0.750923        41.632289\n",
       "Pottery & Glass                    0.724025        29.071927\n",
       "Sporting Goods                     0.778186        53.203532\n",
       "Sports Mem Cards & Fan Shop        0.679758        23.235442\n",
       "Stamps                             0.723110        18.252685\n",
       "Tickets & Experiences              0.827965        53.935296\n",
       "Toys & Hobbies                     0.753023        36.630766\n",
       "Travel                             0.765697        59.200182\n",
       "Video Games & Consoles             0.783154        34.327267"
      ]
     },
     "execution_count": 14,
     "metadata": {},
     "output_type": "execute_result"
    }
   ],
   "source": [
    "d = dat.groupby('metacat')[['price2start', 'view_item_count']].mean()\n",
    "d"
   ]
  },
  {
   "cell_type": "markdown",
   "metadata": {},
   "source": [
    "... continue on your own from here... write a function that takes `d.view_item_count` as an input and returns a predicted price. The data price that this should be compared to is `d.price2start`. "
   ]
  },
  {
   "cell_type": "code",
   "execution_count": 15,
   "metadata": {},
   "outputs": [
    {
     "name": "stdout",
     "output_type": "stream",
     "text": [
      "(metacat\n",
      "Antiques                          0.800802\n",
      "Art                               0.738072\n",
      "Baby                              0.771430\n",
      "Books                             0.585373\n",
      "Business & Industrial             0.756605\n",
      "Cameras & Photo                   0.827524\n",
      "Cell Phones & Accessories         0.855710\n",
      "Coins & Paper Money               0.723863\n",
      "Computers/Tablets & Networking    0.801849\n",
      "Consumer Electronics              0.830240\n",
      "Crafts                            0.684176\n",
      "DVDs & Movies                     0.562066\n",
      "Dolls & Bears                     0.758313\n",
      "Entertainment Memorabilia         0.739906\n",
      "Everything Else                   0.676213\n",
      "Gift Cards & Coupons              0.594458\n",
      "Health & Beauty                   0.664476\n",
      "Home & Garden                     0.771463\n",
      "Jewelry & Watches                 0.772817\n",
      "Music                             0.592181\n",
      "Musical Instruments & Gear        0.868461\n",
      "Pet Supplies                      0.785556\n",
      "Pottery & Glass                   0.706503\n",
      "Sporting Goods                    0.828189\n",
      "Sports Mem Cards & Fan Shop       0.645835\n",
      "Stamps                            0.569942\n",
      "Tickets & Experiences             0.830322\n",
      "Toys & Hobbies                    0.759793\n",
      "Travel                            0.844237\n",
      "Video Games & Consoles            0.745723\n",
      "Name: view_item_count, dtype: float64, metacat\n",
      "Antiques                          1.147449\n",
      "Art                               1.087992\n",
      "Baby                              1.015254\n",
      "Books                             0.838972\n",
      "Business & Industrial             1.050265\n",
      "Cameras & Photo                   1.040862\n",
      "Cell Phones & Accessories         1.015301\n",
      "Coins & Paper Money               0.910736\n",
      "Computers/Tablets & Networking    1.007022\n",
      "Consumer Electronics              1.067126\n",
      "Crafts                            0.945330\n",
      "DVDs & Movies                     0.756433\n",
      "Dolls & Bears                     1.040008\n",
      "Entertainment Memorabilia         1.077842\n",
      "Everything Else                   1.002686\n",
      "Gift Cards & Coupons              0.715586\n",
      "Health & Beauty                   0.849700\n",
      "Home & Garden                     1.019961\n",
      "Jewelry & Watches                 1.048654\n",
      "Music                             0.839183\n",
      "Musical Instruments & Gear        1.076353\n",
      "Pet Supplies                      1.046121\n",
      "Pottery & Glass                   0.975800\n",
      "Sporting Goods                    1.064257\n",
      "Sports Mem Cards & Fan Shop       0.950095\n",
      "Stamps                            0.788182\n",
      "Tickets & Experiences             1.002848\n",
      "Toys & Hobbies                    1.008990\n",
      "Travel                            1.102573\n",
      "Video Games & Consoles            0.952206\n",
      "dtype: float64, metacat\n",
      "Antiques                          0.102904\n",
      "Art                               0.059692\n",
      "Baby                              0.011591\n",
      "Books                            -0.112353\n",
      "Business & Industrial             0.036211\n",
      "Cameras & Photo                   0.032487\n",
      "Cell Phones & Accessories         0.012896\n",
      "Coins & Paper Money              -0.070948\n",
      "Computers/Tablets & Networking    0.005592\n",
      "Consumer Electronics              0.052225\n",
      "Crafts                           -0.039567\n",
      "DVDs & Movies                    -0.180982\n",
      "Dolls & Bears                     0.029172\n",
      "Entertainment Memorabilia         0.053436\n",
      "Everything Else                   0.001812\n",
      "Gift Cards & Coupons             -0.236271\n",
      "Health & Beauty                  -0.117537\n",
      "Home & Garden                     0.015098\n",
      "Jewelry & Watches                 0.035856\n",
      "Music                            -0.113482\n",
      "Musical Instruments & Gear        0.061606\n",
      "Pet Supplies                      0.034633\n",
      "Pottery & Glass                  -0.017521\n",
      "Sporting Goods                    0.050004\n",
      "Sports Mem Cards & Fan Shop      -0.033923\n",
      "Stamps                           -0.153168\n",
      "Tickets & Experiences             0.002358\n",
      "Toys & Hobbies                    0.006770\n",
      "Travel                            0.078540\n",
      "Video Games & Consoles           -0.037430\n",
      "dtype: float64)\n"
     ]
    }
   ],
   "source": [
    "def phat_c(x,n):\n",
    "    return (x * n - 1) / (x * n + 1)\n",
    "\n",
    "#returns the predicted payment to the consignor, phat_c, phat_c compared to the start price and the difference\n",
    "#between phat_c and the start price\n",
    "def phat_c_extnd(x,n,p2s):\n",
    "    return (phat_c(x,n),phat_c(x,n) / p2s,phat_c(x,n) - p2s)\n",
    "\n",
    "print(phat_c_extnd(.2,d.view_item_count,d.price2start))"
   ]
  },
  {
   "cell_type": "code",
   "execution_count": 16,
   "metadata": {},
   "outputs": [
    {
     "data": {
      "image/png": "[encoded data removed]",
      "text/plain": [
       "<Figure size 432x288 with 1 Axes>"
      ]
     },
     "metadata": {
      "needs_background": "light"
     },
     "output_type": "display_data"
    },
    {
     "name": "stdout",
     "output_type": "stream",
     "text": [
      "xhat = 0.031408203125000006\n",
      "Q(xhat) = 0.0036019495998441463\n",
      "I have used Nelder-Mead to avoid any pitfalls of differentiation. I am not concerned with efficiency.\n"
     ]
    }
   ],
   "source": [
    "def Q(x,n,p2s):\n",
    "    return ((phat_c(x,n) - phat_c(x,n) / p2s) ** 2).mean()\n",
    "    #return ((phat_c(x,n) - p2s) ** 2).mean()\n",
    "    \n",
    "def Q_applied(x):\n",
    "    return Q(x,d.view_item_count,d.price2start)\n",
    "\n",
    "xlist = np.array([i / 10000 for i in range(1001)])\n",
    "ylist = np.array([Q(i / 10000,d.view_item_count,d.price2start) for i in range(1001)])\n",
    "\n",
    "plt.plot(xlist,ylist)\n",
    "plt.show()\n",
    "\n",
    "minQ = minimize(Q_applied, 0, method='Nelder-Mead', tol=1e-6)\n",
    "xhat = minQ.x[0]\n",
    "Q_xhat = minQ.fun\n",
    "\n",
    "print(\"xhat =\",xhat)\n",
    "print(\"Q(xhat) =\",Q_xhat)\n",
    "print(\"I have used Nelder-Mead to avoid any pitfalls of differentiation. I am not concerned with efficiency.\")  "
   ]
  },
  {
   "cell_type": "code",
   "execution_count": 17,
   "metadata": {},
   "outputs": [
    {
     "name": "stdout",
     "output_type": "stream",
     "text": [
      "blue = simulated winning bids\n",
      "red = price2start for Cell Phones & Accessories\n"
     ]
    },
    {
     "data": {
      "image/png": "[encoded data removed]",
      "text/plain": [
       "<Figure size 432x288 with 1 Axes>"
      ]
     },
     "metadata": {
      "needs_background": "light"
     },
     "output_type": "display_data"
    }
   ],
   "source": [
    "np.random.seed(80085)\n",
    "\n",
    "sims = np.array([np.random.beta(xhat * 64 - 1,2) for i in range(100001)])\n",
    "\n",
    "cpa = dat.query('metacat == \"Cell Phones & Accessories\"')\n",
    "\n",
    "plt.hist(sims,density=True,alpha=.5,color='blue')\n",
    "plt.hist(cpa.price2start,density=True,range=(0,1),alpha=.5,color='red')\n",
    "plt.show\n",
    "\n",
    "print(\"blue = simulated winning bids\")\n",
    "print(\"red = price2start for Cell Phones & Accessories\")"
   ]
  },
  {
   "cell_type": "markdown",
   "metadata": {},
   "source": [
    "# Part B: Non-uniformly Distributed Valuations\n",
    "\n",
    "Now, we instead focus on the price variable, `price2ref`. "
   ]
  },
  {
   "cell_type": "code",
   "execution_count": 18,
   "metadata": {},
   "outputs": [],
   "source": [
    "price_var = 'price2ref'"
   ]
  },
  {
   "cell_type": "markdown",
   "metadata": {},
   "source": [
    "## Subset the dataset"
   ]
  },
  {
   "cell_type": "code",
   "execution_count": 19,
   "metadata": {},
   "outputs": [],
   "source": [
    "I = (dat.metacat == 'Cell Phones & Accessories') & (dat.price2ref < 2.0) & (dat.count1 >= 10)\n",
    "d = dat[I].copy() # to avoid having a pointer "
   ]
  },
  {
   "cell_type": "markdown",
   "metadata": {},
   "source": [
    "Showing the overall distribution of that price"
   ]
  },
  {
   "cell_type": "code",
   "execution_count": 20,
   "metadata": {},
   "outputs": [
    {
     "data": {
      "image/png": "[encoded data removed]",
      "text/plain": [
       "<Figure size 432x288 with 1 Axes>"
      ]
     },
     "metadata": {
      "needs_background": "light"
     },
     "output_type": "display_data"
    }
   ],
   "source": [
    "d[price_var].hist(bins=100); \n",
    "plt.xlabel('Price relative to reference'); "
   ]
  },
  {
   "cell_type": "markdown",
   "metadata": {},
   "source": [
    "## Question B.1"
   ]
  },
  {
   "cell_type": "code",
   "execution_count": 21,
   "metadata": {},
   "outputs": [],
   "source": [
    "n = 10\n",
    "R = 100000\n",
    "\n",
    "# chi square distributed valuations\n",
    "v = np.random.chisquare(1, size=(n,R))\n",
    "vT_s = v.transpose()\n",
    "for elem in vT_s:\n",
    "    elem.sort()\n",
    "# next, find the winning price for each column, r=1,...,R\n",
    "# save an R-vector with the winning payments\n",
    "# ... \n",
    "win_chi2 = np.array([vT_s[i][-2] for i in range(R)])\n",
    "\n",
    "# log normal draws\n",
    "w = np.exp(np.random.normal(-0.5, 0.5, size=(n,R)))\n",
    "wT_s = w.transpose()\n",
    "for elem in wT_s:\n",
    "    elem.sort()\n",
    "# ... and do the same here \n",
    "# ... \n",
    "win_lognorm = np.array([wT_s[i][-2] for i in range(R)])\n",
    "\n"
   ]
  },
  {
   "cell_type": "code",
   "execution_count": 22,
   "metadata": {},
   "outputs": [
    {
     "data": {
      "image/png": "[encoded data removed]",
      "text/plain": [
       "<Figure size 432x288 with 1 Axes>"
      ]
     },
     "metadata": {
      "needs_background": "light"
     },
     "output_type": "display_data"
    }
   ],
   "source": [
    "# if you called the variables \"win_chi2\" and \"win_lognorm\", \n",
    "# then this code creates a graph with the histograms together \n",
    "fig,ax = plt.subplots(); \n",
    "ax.hist(win_chi2,       alpha=1, density=True, bins=175, label='chi2',range=(0,6.5),color='yellow');      # winning bids with chi squared distributed valuations\n",
    "ax.hist(win_lognorm,    alpha=0.5, density=True, bins=175, label='lognormal',range=(0,6.5),color='red'); # ... with log normals \n",
    "ax.hist(d[price_var], alpha=0.3, density=True, bins=175, label='Observed',range=(0,6.5),color='blue');  # the data we want to compare to \n",
    "ax.legend(loc='best'); sns.despine(); "
   ]
  },
  {
   "cell_type": "markdown",
   "metadata": {},
   "source": [
    "### Question B.2\n",
    "\n",
    "Find the $\\mu$ that best fits the data. Two approaches: \n",
    "1. Just evaluate histograms for different values of $\\mu$ and search \"with your eye\" *(minimum acceptable solution)* \n",
    "2. Minimize the \"distance\" between the simulated and real data. See the attached notebook, `ecdf.ipynb` for help. "
   ]
  },
  {
   "cell_type": "code",
   "execution_count": 23,
   "metadata": {},
   "outputs": [
    {
     "name": "stdout",
     "output_type": "stream",
     "text": [
      "mu = -.55\n"
     ]
    },
    {
     "data": {
      "image/png": "[encoded data removed]",
      "text/plain": [
       "<Figure size 432x288 with 1 Axes>"
      ]
     },
     "metadata": {
      "needs_background": "light"
     },
     "output_type": "display_data"
    }
   ],
   "source": [
    "# 1. set up the grid on which we will be evaluating the ECDF functions\n",
    "#plow = 0.0\n",
    "#phigh = 2.0\n",
    "#xx = np.linspace(plow, phigh, 50)\n",
    "\n",
    "# 2. construct the empirical CDF function handles\n",
    "# ECDF returns a *function* which you can then evaluate at a vector of points \n",
    "#ecdf_dat = ECDF(d['price2ref']) # the CDF function for the data \n",
    "#ecdf_sim = ECDF(win_lognorm) # the variable from question B.1\n",
    "\n",
    "# 3. show a plot together \n",
    "# we evaluate the two cdf functions on the same grid\n",
    "#plt.plot(xx, ecdf_dat(xx), '-o', xx, ecdf_sim(xx), '-x'); \n",
    "#plt.legend(['Data', 'Simulation']); \n",
    "\n",
    "# 4. compute the L2 distance between the two CDF functions\n",
    "# (see ecdf.ipynb for help with this)\n",
    "#L2 = np.mean((ecdf_dat(xx) - ecdf_sim(xx))**2)\n",
    "#print(f'L2 criterion for these values = {L2:6.3f}')\n",
    "\n",
    "\n",
    "\n",
    "#def sqrd_diff_lN(mu):\n",
    "#    w_var = np.exp(np.random.normal(mu, 0.5, size=(n,40043)))\n",
    "#    wT_s_var = w_var.transpose()\n",
    "#    for elem in wT_s_var:\n",
    "#        elem.sort()\n",
    "#    wl_var = np.array([wT_s_var[i][-2] for i in range(40043)])\n",
    "#    diff = (wl_var - d[price_var]) ** 2\n",
    "#    return np.array(diff.mean)\n",
    "\n",
    "#min_lN = minimize(sqrd_diff_lN, -.5, method='Nelder-Mead', tol=1e-6)\n",
    "\n",
    "w = np.exp(np.random.normal(-.55, 0.5, size=(n,R)))\n",
    "wT_s = w.transpose()\n",
    "for elem in wT_s:\n",
    "    elem.sort()\n",
    "win_lognorm = np.array([wT_s[i][-2] for i in range(R)])\n",
    "\n",
    "fig,ax = plt.subplots(); \n",
    "ax.hist(win_lognorm,    alpha=0.5, density=True, bins=100, label='lognormal',range=(0,2.2),color='red'); # ... with log normals \n",
    "ax.hist(d[price_var], alpha=0.3, density=True, bins=100, label='Observed',range=(0,2.2),color='blue');  # the data we want to compare to \n",
    "ax.legend(loc='best'); sns.despine(); \n",
    "\n",
    "print(\"mu = -.55\")\n",
    "    "
   ]
  },
  {
   "cell_type": "code",
   "execution_count": null,
   "metadata": {},
   "outputs": [],
   "source": []
  }
 ],
 "metadata": {
  "interpreter": {
   "hash": "2f28796849cc7d0dfb7168fb91405d73a8cccecd280e63fee6edce8a728c9dcc"
  },
  "kernelspec": {
   "display_name": "Python 3",
   "language": "python",
   "name": "python3"
  },
  "language_info": {
   "codemirror_mode": {
    "name": "ipython",
    "version": 3
   },
   "file_extension": ".py",
   "mimetype": "text/x-python",
   "name": "python",
   "nbconvert_exporter": "python",
   "pygments_lexer": "ipython3",
   "version": "3.8.5"
  }
 },
 "nbformat": 4,
 "nbformat_minor": 4
}
